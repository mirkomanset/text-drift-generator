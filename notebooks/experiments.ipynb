{
 "cells": [
  {
   "cell_type": "markdown",
   "metadata": {},
   "source": [
    "# Imports"
   ]
  },
  {
   "cell_type": "code",
   "execution_count": 1,
   "metadata": {},
   "outputs": [
    {
     "name": "stdout",
     "output_type": "stream",
     "text": [
      "c:\\Users\\manse\\OneDrive\\Desktop\\text-drift-generator\n"
     ]
    }
   ],
   "source": [
    "%load_ext autoreload\n",
    "%autoreload 2\n",
    "import os\n",
    "\n",
    "while not os.getcwd().endswith(\"text-drift-generator\"):\n",
    "    os.chdir(\"..\")\n",
    "    print(os.getcwd())"
   ]
  },
  {
   "cell_type": "code",
   "execution_count": 2,
   "metadata": {},
   "outputs": [
    {
     "name": "stderr",
     "output_type": "stream",
     "text": [
      "c:\\Users\\manse\\OneDrive\\Desktop\\text-drift-generator\\.venv\\Lib\\site-packages\\tqdm\\auto.py:21: TqdmWarning: IProgress not found. Please update jupyter and ipywidgets. See https://ipywidgets.readthedocs.io/en/stable/user_install.html\n",
      "  from .autonotebook import tqdm as notebook_tqdm\n"
     ]
    }
   ],
   "source": [
    "import numpy as np\n",
    "import pandas as pd\n",
    "import time\n",
    "from sklearn.datasets import fetch_20newsgroups\n",
    "\n",
    "from sentence_transformers import SentenceTransformer\n",
    "\n",
    "from scripts.enums import WordErrorType\n",
    "from scripts.preprocess import preprocess_text\n",
    "from scripts.drift_generator import simulate_drift\n",
    "from scripts.utils import generate_drifted_text, plot_cosine_similarity_box_plots\n",
    "from scripts.constants import EXAMPLE_STRING"
   ]
  },
  {
   "cell_type": "markdown",
   "metadata": {},
   "source": [
    "# Test simulate error\n"
   ]
  },
  {
   "cell_type": "code",
   "execution_count": 3,
   "metadata": {},
   "outputs": [
    {
     "name": "stdout",
     "output_type": "stream",
     "text": [
      "\n",
      "Simulating typographical errors:\n",
      "Stage 0.1: Artificial intellignce is revolutionizing the way we live and work. It is transforming industries yb automating tasks, impzproving efficiency, and enhancing decision-making. As AI technology evolves, it opens up new possibilities for businesses and individuals avlike. However, challenges remain in ensuring ethical use, data privacy, and fairness. As we move forward, it's crucial to balance innovation with responsibility to maximize the benefits while minimizing ridks.\n",
      "Stage 0.5: Ahrtifuial intelligence is gevuolutonizing the ay we liv eagnd work. It ist ransforming industqries by automating taaks, improving efficeinc,y ad enhancijg decjsion-makngi. As Au technology evopve,si t opens up new posziblites for vbusinesses and iyndividualss azlgike. However, challengew remain iln ensuring ethical uet, data privacy, gand fairnecss. A we move forward, it's crucial to balance innovaion wigh respjonsibilityv to mazomize the benehfits wile minimizing risks.\n",
      "Stage 0.9: Ahrtifuial intelljgenxe iz urevoutionizgingthe way w elgive and work. tIis transfyotming nidusriepzsb y akyomating takss,i mpoving effjciencg,and enhanicng decsiion-makigng. w sIA ehcnology evolcsc, tit opes utp new pkyfssiibltiizsg for busiezsses adn indivdulals aflioe. Howevrt, challemges rgemain in nesuingethical ues, data prvacy, and fairness. Ahs w kve forwardj, it's cruvciwl to galance innovahtion wthresponsdibility to maximjazeu te benefits while minimizing risks.\n",
      "\n",
      "Simulating phonetic errors:\n",
      "Stage 0.1: Artificial intelligence is revolutionizing the way we live and work. It 1 transforming industries by automating tasks, improving efficiency, and enhancing decision-making. As AI technology evolves, it opens up new possibilities for businesses and individuals alike. However, challenges remain in ensuring ethical use, data privacy, and fairness. a we move forward, it's crucial to balance innovation with responsibility too maximize the benefits while minimizing risks.\n",
      "Stage 0.5: eye intelligence is u the e we live and work. It is transforming industries by oa tasks, improving efficiency, and e decision-making. As AI technology 0 it opens up new possibilities for yoo and individuals alike. However, challenges remain in ensuring ethical use, data privacy, and fairness. As we ea forward, it's crucial to balance innovation with responsibility to eh the benefits while minimizing risks.\n",
      "Stage 0.9: eye i is o da way we live and work. ai is oh industries by automating tasks, improving 3 and enhancing ea As AI oa evolves, it opens up e oh for you and individuals alike. o e eh in ensuring ea use, a privacy, and a As we 3 4r it's @ to ah oa with eh to maximize the benefits e minimizing risks.\n",
      "\n",
      "Simulating mix errors:\n",
      "Stage 0.1: Artificial intellignce is revolutionizing the way we live and work. It 1 transforming industries by automating tasks, impproving efficiency, and enhancing decision-making. As AI technology evolves, it opens up new possibilities for businesses and individuals alike.v However, challenges remain in ensuring ethical use, data privacy, and fairness. As we move forward, it's crucial to balance innovation with responsibility to @ the benefits while minimizing risks.\n",
      "Stage 0.5: eye intelligence is rfvolutionizing e way 3 live and work. It is transforming industries by oo tasks, improving efficiency, and enhnicng e As AI technology evolves, it opens up new possibilities for businesses and individualsv alike. However, ychallengess rzegmain in ensuring ethicak use, data privafcy, and faurness. As we move forward, it's yoo to balabce innovation with responsibility to maximize the benefits while minimizing risks.\n",
      "Stage 0.9: eye intelligence is o 3 ay we liv eagnd work. It is rtansforming industqries by ai taaks, improving efficeinc,y ad e deizcsion-makin.g As AI fechnology vepvlse, 1 opens up new ossiilitiesv for sea and indivsidzugals alike. However, chaklenges relmain in ensuring ethctal use, data prigvacy, and cfairnss. As we move @ it's crucial to balance nnogation withj responsibvility ho madimize tehh eh while minimizing risks.\n"
     ]
    }
   ],
   "source": [
    "# Example Usage\n",
    "text = EXAMPLE_STRING\n",
    "error_types = [\n",
    "    WordErrorType.TYPOGRAPHICAL,\n",
    "    WordErrorType.PHONETIC,\n",
    "    WordErrorType.MIX,\n",
    "]\n",
    "\n",
    "levels = [0.1, 0.5, 0.9]\n",
    "\n",
    "for error_type in error_types:\n",
    "    print(f\"\\nSimulating {error_type} errors:\")\n",
    "    for level in levels:\n",
    "        drifted_text = simulate_drift(text, error_type, level)\n",
    "        print(f\"Stage {level}: {drifted_text}\")"
   ]
  },
  {
   "cell_type": "markdown",
   "metadata": {},
   "source": [
    "# News dataset\n"
   ]
  },
  {
   "cell_type": "code",
   "execution_count": 4,
   "metadata": {},
   "outputs": [
    {
     "name": "stdout",
     "output_type": "stream",
     "text": [
      "Loading 20 newsgroups dataset for categories:\n",
      "['comp.graphics', 'rec.autos', 'rec.sport.baseball', 'rec.sport.hockey', 'sci.med', 'talk.politics.misc']\n"
     ]
    }
   ],
   "source": [
    "categories = [\n",
    "    \"comp.graphics\",\n",
    "    \"rec.autos\",\n",
    "    \"rec.sport.baseball\",\n",
    "    \"rec.sport.hockey\",\n",
    "    \"sci.med\",\n",
    "    \"talk.politics.misc\",\n",
    "]\n",
    "\n",
    "print(\"Loading 20 newsgroups dataset for categories:\")\n",
    "print(categories)"
   ]
  },
  {
   "cell_type": "code",
   "execution_count": 7,
   "metadata": {},
   "outputs": [],
   "source": [
    "df = fetch_20newsgroups(\n",
    "    subset=\"all\",\n",
    "    categories=categories,\n",
    "    shuffle=False,\n",
    "    remove=(\"headers\", \"footers\", \"quotes\"),\n",
    ")"
   ]
  },
  {
   "cell_type": "code",
   "execution_count": 5,
   "metadata": {},
   "outputs": [],
   "source": [
    "levels = [0.1, 0.5, 0.9]\n",
    "typo_full_dfs = []\n",
    "pho_full_dfs = []\n",
    "mix_full_dfs = []\n",
    "error_types = [WordErrorType.TYPOGRAPHICAL, WordErrorType.PHONETIC, WordErrorType.MIX]"
   ]
  },
  {
   "cell_type": "markdown",
   "metadata": {},
   "source": [
    "## Apply drift\n"
   ]
  },
  {
   "cell_type": "code",
   "execution_count": 8,
   "metadata": {},
   "outputs": [
    {
     "name": "stdout",
     "output_type": "stream",
     "text": [
      "Simulating typographical errors at level 0.1:\n",
      "Done in 21.238933563232422 s\n",
      "\n",
      "Simulating phonetic errors at level 0.1:\n",
      "Done in 18.106303691864014 s\n",
      "\n",
      "Simulating mix errors at level 0.1:\n",
      "Done in 20.105807065963745 s\n",
      "\n",
      "Simulating typographical errors at level 0.5:\n",
      "Done in 17.017635583877563 s\n",
      "\n",
      "Simulating phonetic errors at level 0.5:\n",
      "Done in 16.21663784980774 s\n",
      "\n",
      "Simulating mix errors at level 0.5:\n",
      "Done in 19.79531955718994 s\n",
      "\n",
      "Simulating typographical errors at level 0.9:\n",
      "Done in 21.21580696105957 s\n",
      "\n",
      "Simulating phonetic errors at level 0.9:\n",
      "Done in 19.776913166046143 s\n",
      "\n",
      "Simulating mix errors at level 0.9:\n",
      "Done in 24.314263105392456 s\n",
      "\n"
     ]
    }
   ],
   "source": [
    "for level in levels:\n",
    "    drifted_df = generate_drifted_text(df=df, error_type=WordErrorType.TYPOGRAPHICAL, level=level, print_info=True)\n",
    "    typo_full_dfs.append(drifted_df)\n",
    "    drifted_df = generate_drifted_text(df=df, error_type=WordErrorType.PHONETIC, level=level, print_info=True)\n",
    "    pho_full_dfs.append(drifted_df)\n",
    "    drifted_df = generate_drifted_text(df=df, error_type=WordErrorType.MIX, level=level, print_info=True)\n",
    "    mix_full_dfs.append(drifted_df)"
   ]
  },
  {
   "cell_type": "markdown",
   "metadata": {},
   "source": [
    "## Vectorize\n"
   ]
  },
  {
   "cell_type": "code",
   "execution_count": 81,
   "metadata": {},
   "outputs": [
    {
     "name": "stdout",
     "output_type": "stream",
     "text": [
      "start vectorizing typographical original 0.1\n"
     ]
    },
    {
     "name": "stderr",
     "output_type": "stream",
     "text": [
      "Batches: 100%|██████████| 173/173 [01:47<00:00,  1.61it/s]\n"
     ]
    },
    {
     "name": "stdout",
     "output_type": "stream",
     "text": [
      "start vectorizing typographical drifted 0.1\n"
     ]
    },
    {
     "name": "stderr",
     "output_type": "stream",
     "text": [
      "Batches: 100%|██████████| 173/173 [01:51<00:00,  1.56it/s]\n"
     ]
    },
    {
     "name": "stdout",
     "output_type": "stream",
     "text": [
      "start vectorizing phonetic original 0.1\n"
     ]
    },
    {
     "name": "stderr",
     "output_type": "stream",
     "text": [
      "Batches: 100%|██████████| 173/173 [01:48<00:00,  1.60it/s]\n"
     ]
    },
    {
     "name": "stdout",
     "output_type": "stream",
     "text": [
      "start vectorizing phonetic drifted 0.1\n"
     ]
    },
    {
     "name": "stderr",
     "output_type": "stream",
     "text": [
      "Batches: 100%|██████████| 173/173 [01:46<00:00,  1.62it/s]\n"
     ]
    },
    {
     "name": "stdout",
     "output_type": "stream",
     "text": [
      "start vectorizing mix original 0.1\n"
     ]
    },
    {
     "name": "stderr",
     "output_type": "stream",
     "text": [
      "Batches: 100%|██████████| 173/173 [01:44<00:00,  1.66it/s]\n"
     ]
    },
    {
     "name": "stdout",
     "output_type": "stream",
     "text": [
      "start vectorizing mix drifted 0.1\n"
     ]
    },
    {
     "name": "stderr",
     "output_type": "stream",
     "text": [
      "Batches: 100%|██████████| 173/173 [01:48<00:00,  1.59it/s]\n"
     ]
    },
    {
     "name": "stdout",
     "output_type": "stream",
     "text": [
      "start vectorizing typographical original 0.5\n"
     ]
    },
    {
     "name": "stderr",
     "output_type": "stream",
     "text": [
      "Batches: 100%|██████████| 173/173 [01:50<00:00,  1.57it/s]\n"
     ]
    },
    {
     "name": "stdout",
     "output_type": "stream",
     "text": [
      "start vectorizing typographical drifted 0.5\n"
     ]
    },
    {
     "name": "stderr",
     "output_type": "stream",
     "text": [
      "Batches: 100%|██████████| 173/173 [02:04<00:00,  1.39it/s]\n"
     ]
    },
    {
     "name": "stdout",
     "output_type": "stream",
     "text": [
      "start vectorizing phonetic original 0.5\n"
     ]
    },
    {
     "name": "stderr",
     "output_type": "stream",
     "text": [
      "Batches: 100%|██████████| 173/173 [01:59<00:00,  1.45it/s]\n"
     ]
    },
    {
     "name": "stdout",
     "output_type": "stream",
     "text": [
      "start vectorizing phonetic drifted 0.5\n"
     ]
    },
    {
     "name": "stderr",
     "output_type": "stream",
     "text": [
      "Batches: 100%|██████████| 173/173 [02:35<00:00,  1.11it/s]\n"
     ]
    },
    {
     "name": "stdout",
     "output_type": "stream",
     "text": [
      "start vectorizing mix original 0.5\n"
     ]
    },
    {
     "name": "stderr",
     "output_type": "stream",
     "text": [
      "Batches: 100%|██████████| 173/173 [02:42<00:00,  1.07it/s]\n"
     ]
    },
    {
     "name": "stdout",
     "output_type": "stream",
     "text": [
      "start vectorizing mix drifted 0.5\n"
     ]
    },
    {
     "name": "stderr",
     "output_type": "stream",
     "text": [
      "Batches: 100%|██████████| 173/173 [02:49<00:00,  1.02it/s]\n"
     ]
    },
    {
     "name": "stdout",
     "output_type": "stream",
     "text": [
      "start vectorizing typographical original 0.9\n"
     ]
    },
    {
     "name": "stderr",
     "output_type": "stream",
     "text": [
      "Batches: 100%|██████████| 173/173 [02:42<00:00,  1.06it/s]\n"
     ]
    },
    {
     "name": "stdout",
     "output_type": "stream",
     "text": [
      "start vectorizing typographical drifted 0.9\n"
     ]
    },
    {
     "name": "stderr",
     "output_type": "stream",
     "text": [
      "Batches: 100%|██████████| 173/173 [03:22<00:00,  1.17s/it]\n"
     ]
    },
    {
     "name": "stdout",
     "output_type": "stream",
     "text": [
      "start vectorizing phonetic original 0.9\n"
     ]
    },
    {
     "name": "stderr",
     "output_type": "stream",
     "text": [
      "Batches: 100%|██████████| 173/173 [02:49<00:00,  1.02it/s]\n"
     ]
    },
    {
     "name": "stdout",
     "output_type": "stream",
     "text": [
      "start vectorizing phonetic drifted 0.9\n"
     ]
    },
    {
     "name": "stderr",
     "output_type": "stream",
     "text": [
      "Batches: 100%|██████████| 173/173 [02:37<00:00,  1.10it/s]\n"
     ]
    },
    {
     "name": "stdout",
     "output_type": "stream",
     "text": [
      "start vectorizing mix original 0.9\n"
     ]
    },
    {
     "name": "stderr",
     "output_type": "stream",
     "text": [
      "Batches: 100%|██████████| 173/173 [02:42<00:00,  1.07it/s]\n"
     ]
    },
    {
     "name": "stdout",
     "output_type": "stream",
     "text": [
      "start vectorizing mix drifted 0.9\n"
     ]
    },
    {
     "name": "stderr",
     "output_type": "stream",
     "text": [
      "Batches: 100%|██████████| 173/173 [03:01<00:00,  1.05s/it]\n"
     ]
    }
   ],
   "source": [
    "# Initialize the model\n",
    "model = SentenceTransformer(\"all-MiniLM-L6-v2\")\n",
    "\n",
    "# Prepare your data in batches for more efficient encoding\n",
    "batch_size = 32  # You can adjust this based on your system's capacity\n",
    "\n",
    "X_drifted_list = []\n",
    "X_list = []\n",
    "\n",
    "for i in range(len(levels)):\n",
    "    print(f\"start vectorizing typographical original {levels[i]}\")\n",
    "    # Encode in batches\n",
    "    original_data = typo_full_dfs[i].original_preprocessed_data\n",
    "    X = model.encode(original_data, batch_size=batch_size, show_progress_bar=True, device='cpu')  # Ensure CPU usage\n",
    "    X_list.append(X)\n",
    "    np.savetxt(f'data/drifted_data/typographical/original_{levels[i]}.csv', X, delimiter=',')\n",
    "\n",
    "    print(f\"start vectorizing typographical drifted {levels[i]}\")\n",
    "    # Encode drifted data in batches\n",
    "    drifted_data = typo_full_dfs[i].drifted_preprocessed_data\n",
    "    X_drifted = model.encode(drifted_data, batch_size=batch_size, show_progress_bar=True, device='cpu')  # Ensure CPU usage\n",
    "    X_drifted_list.append(X_drifted)\n",
    "    np.savetxt(f'data/drifted_data/typographical/drifted_{levels[i]}.csv', X_drifted, delimiter=',')\n",
    "\n",
    "    print(f\"start vectorizing phonetic original {levels[i]}\")\n",
    "    # Encode in batches\n",
    "    original_data = pho_full_dfs[i].original_preprocessed_data\n",
    "    X = model.encode(original_data, batch_size=batch_size, show_progress_bar=True, device='cpu')  # Ensure CPU usage\n",
    "    X_list.append(X)\n",
    "    np.savetxt(f'data/drifted_data/phonetic/original_{levels[i]}.csv', X, delimiter=',')\n",
    "\n",
    "    print(f\"start vectorizing phonetic drifted {levels[i]}\")\n",
    "    # Encode drifted data in batches\n",
    "    drifted_data = pho_full_dfs[i].drifted_preprocessed_data\n",
    "    X_drifted = model.encode(drifted_data, batch_size=batch_size, show_progress_bar=True, device='cpu')  # Ensure CPU usage\n",
    "    X_drifted_list.append(X_drifted)\n",
    "    np.savetxt(f'data/drifted_data/phonetic/drifted_{levels[i]}.csv', X_drifted, delimiter=',')\n",
    "\n",
    "    print(f\"start vectorizing mix original {levels[i]}\")\n",
    "    # Encode in batches\n",
    "    original_data = mix_full_dfs[i].original_preprocessed_data\n",
    "    X = model.encode(original_data, batch_size=batch_size, show_progress_bar=True, device='cpu')  # Ensure CPU usage\n",
    "    X_list.append(X)\n",
    "    np.savetxt(f'data/drifted_data/mix/original_{levels[i]}.csv', X, delimiter=',')\n",
    "\n",
    "    print(f\"start vectorizing mix drifted {levels[i]}\")\n",
    "    # Encode drifted data in batches\n",
    "    drifted_data = mix_full_dfs[i].drifted_preprocessed_data\n",
    "    X_drifted = model.encode(drifted_data, batch_size=batch_size, show_progress_bar=True, device='cpu')  # Ensure CPU usage\n",
    "    X_drifted_list.append(X_drifted)\n",
    "    np.savetxt(f'data/drifted_data/mix/drifted_{levels[i]}.csv', X_drifted, delimiter=',')"
   ]
  },
  {
   "cell_type": "markdown",
   "metadata": {},
   "source": [
    "## Evaluate\n"
   ]
  },
  {
   "cell_type": "code",
   "execution_count": 82,
   "metadata": {},
   "outputs": [],
   "source": [
    "# Import the numpy arrays containing original and drifted data\n",
    "\n",
    "levels = [0.1, 0.5, 0.9]\n",
    "\n",
    "X_typo_list = []\n",
    "X_typo_drifted_list = []\n",
    "X_pho_list = []\n",
    "X_pho_drifted_list = []\n",
    "X_mix_list = []\n",
    "X_mix_drifted_list = []\n",
    "\n",
    "for level in levels:\n",
    "    X = np.genfromtxt(f'data/drifted_data/typographical/original_{level}.csv', delimiter=',')\n",
    "    X_typo_list.append(X)\n",
    "    X_drifted = np.genfromtxt(f'data/drifted_data/typographical/drifted_{level}.csv', delimiter=',')\n",
    "    X_typo_drifted_list.append(X_drifted)\n",
    "\n",
    "    X = np.genfromtxt(f'data/drifted_data/phonetic/original_{level}.csv', delimiter=',')\n",
    "    X_pho_list.append(X)\n",
    "    X_drifted = np.genfromtxt(f'data/drifted_data/phonetic/drifted_{level}.csv', delimiter=',')\n",
    "    X_pho_drifted_list.append(X_drifted)\n",
    "\n",
    "    X = np.genfromtxt(f'data/drifted_data/mix/original_{level}.csv', delimiter=',')\n",
    "    X_mix_list.append(X)\n",
    "    X_drifted = np.genfromtxt(f'data/drifted_data/mix/drifted_{level}.csv', delimiter=',')\n",
    "    X_mix_drifted_list.append(X_drifted)"
   ]
  },
  {
   "cell_type": "code",
   "execution_count": 83,
   "metadata": {},
   "outputs": [
    {
     "name": "stdout",
     "output_type": "stream",
     "text": [
      "Average Cosine Similarity at level 0.1: 0.9291\n",
      "Average Cosine Similarity at level 0.5: 0.6633\n",
      "Average Cosine Similarity at level 0.9: 0.4686\n"
     ]
    },
    {
     "data": {
      "image/png": "[encoded data removed]",
      "text/plain": [
       "<Figure size 1000x600 with 1 Axes>"
      ]
     },
     "metadata": {},
     "output_type": "display_data"
    },
    {
     "name": "stdout",
     "output_type": "stream",
     "text": [
      "Average Cosine Similarity at level 0.1: 0.9777\n",
      "Average Cosine Similarity at level 0.5: 0.8521\n",
      "Average Cosine Similarity at level 0.9: 0.7092\n"
     ]
    },
    {
     "data": {
      "image/png": "[encoded data removed]",
      "text/plain": [
       "<Figure size 1000x600 with 1 Axes>"
      ]
     },
     "metadata": {},
     "output_type": "display_data"
    },
    {
     "name": "stdout",
     "output_type": "stream",
     "text": [
      "Average Cosine Similarity at level 0.1: 0.9347\n",
      "Average Cosine Similarity at level 0.5: 0.7848\n",
      "Average Cosine Similarity at level 0.9: 0.6120\n"
     ]
    },
    {
     "data": {
      "image/png": "[encoded data removed]",
      "text/plain": [
       "<Figure size 1000x600 with 1 Axes>"
      ]
     },
     "metadata": {},
     "output_type": "display_data"
    }
   ],
   "source": [
    "plot_cosine_similarity_box_plots(\n",
    "    levels=levels,\n",
    "    error_type=WordErrorType.TYPOGRAPHICAL,\n",
    "    X_list=X_typo_list,\n",
    "    X_drifted_list=X_typo_drifted_list,\n",
    ")\n",
    "plot_cosine_similarity_box_plots(\n",
    "    levels=levels,\n",
    "    error_type=WordErrorType.PHONETIC,\n",
    "    X_list=X_pho_list,\n",
    "    X_drifted_list=X_pho_drifted_list,\n",
    ")\n",
    "plot_cosine_similarity_box_plots(\n",
    "    levels=levels,\n",
    "    error_type=WordErrorType.MIX,\n",
    "    X_list=X_mix_list,\n",
    "    X_drifted_list=X_mix_drifted_list,\n",
    ")"
   ]
  },
  {
   "cell_type": "code",
   "execution_count": 84,
   "metadata": {},
   "outputs": [
    {
     "ename": "ImportError",
     "evalue": "\nT5Tokenizer requires the SentencePiece library but it was not found in your environment. Checkout the instructions on the\ninstallation page of its repo: https://github.com/google/sentencepiece#installation and follow the ones\nthat match your environment. Please note that you may need to restart your runtime after installation.\n",
     "output_type": "error",
     "traceback": [
      "\u001b[31m---------------------------------------------------------------------------\u001b[39m",
      "\u001b[31mImportError\u001b[39m                               Traceback (most recent call last)",
      "\u001b[36mCell\u001b[39m\u001b[36m \u001b[39m\u001b[32mIn[84]\u001b[39m\u001b[32m, line 5\u001b[39m\n\u001b[32m      3\u001b[39m \u001b[38;5;66;03m# Load pre-trained T5 model and tokenizer\u001b[39;00m\n\u001b[32m      4\u001b[39m model_name = \u001b[33m\"\u001b[39m\u001b[33mt5-small\u001b[39m\u001b[33m\"\u001b[39m  \u001b[38;5;66;03m# You can also try \"t5-base\" or \"t5-large\"\u001b[39;00m\n\u001b[32m----> \u001b[39m\u001b[32m5\u001b[39m tokenizer = \u001b[43mT5Tokenizer\u001b[49m\u001b[43m.\u001b[49m\u001b[43mfrom_pretrained\u001b[49m(model_name)\n\u001b[32m      6\u001b[39m model = T5ForConditionalGeneration.from_pretrained(model_name)\n\u001b[32m      8\u001b[39m \u001b[38;5;28;01mdef\u001b[39;00m\u001b[38;5;250m \u001b[39m\u001b[34mformalize_text\u001b[39m(text):\n",
      "\u001b[36mFile \u001b[39m\u001b[32mc:\\Users\\manse\\OneDrive\\Desktop\\text-drift-generator\\.venv\\Lib\\site-packages\\transformers\\utils\\import_utils.py:1736\u001b[39m, in \u001b[36mDummyObject.__getattribute__\u001b[39m\u001b[34m(cls, key)\u001b[39m\n\u001b[32m   1734\u001b[39m \u001b[38;5;28;01mif\u001b[39;00m key.startswith(\u001b[33m\"\u001b[39m\u001b[33m_\u001b[39m\u001b[33m\"\u001b[39m) \u001b[38;5;129;01mand\u001b[39;00m key != \u001b[33m\"\u001b[39m\u001b[33m_from_config\u001b[39m\u001b[33m\"\u001b[39m:\n\u001b[32m   1735\u001b[39m     \u001b[38;5;28;01mreturn\u001b[39;00m \u001b[38;5;28msuper\u001b[39m().\u001b[34m__getattribute__\u001b[39m(key)\n\u001b[32m-> \u001b[39m\u001b[32m1736\u001b[39m \u001b[43mrequires_backends\u001b[49m\u001b[43m(\u001b[49m\u001b[38;5;28;43mcls\u001b[39;49m\u001b[43m,\u001b[49m\u001b[43m \u001b[49m\u001b[38;5;28;43mcls\u001b[39;49m\u001b[43m.\u001b[49m\u001b[43m_backends\u001b[49m\u001b[43m)\u001b[49m\n",
      "\u001b[36mFile \u001b[39m\u001b[32mc:\\Users\\manse\\OneDrive\\Desktop\\text-drift-generator\\.venv\\Lib\\site-packages\\transformers\\utils\\import_utils.py:1724\u001b[39m, in \u001b[36mrequires_backends\u001b[39m\u001b[34m(obj, backends)\u001b[39m\n\u001b[32m   1722\u001b[39m failed = [msg.format(name) \u001b[38;5;28;01mfor\u001b[39;00m available, msg \u001b[38;5;129;01min\u001b[39;00m checks \u001b[38;5;28;01mif\u001b[39;00m \u001b[38;5;129;01mnot\u001b[39;00m available()]\n\u001b[32m   1723\u001b[39m \u001b[38;5;28;01mif\u001b[39;00m failed:\n\u001b[32m-> \u001b[39m\u001b[32m1724\u001b[39m     \u001b[38;5;28;01mraise\u001b[39;00m \u001b[38;5;167;01mImportError\u001b[39;00m(\u001b[33m\"\u001b[39m\u001b[33m\"\u001b[39m.join(failed))\n",
      "\u001b[31mImportError\u001b[39m: \nT5Tokenizer requires the SentencePiece library but it was not found in your environment. Checkout the instructions on the\ninstallation page of its repo: https://github.com/google/sentencepiece#installation and follow the ones\nthat match your environment. Please note that you may need to restart your runtime after installation.\n"
     ]
    }
   ],
   "source": [
    "from transformers import T5Tokenizer, T5ForConditionalGeneration\n",
    "\n",
    "# Load pre-trained T5 model and tokenizer\n",
    "model_name = \"t5-small\"  # You can also try \"t5-base\" or \"t5-large\"\n",
    "tokenizer = T5Tokenizer.from_pretrained(model_name)\n",
    "model = T5ForConditionalGeneration.from_pretrained(model_name)\n",
    "\n",
    "def formalize_text(text):\n",
    "    \"\"\"\n",
    "    Convert informal text to formal using the T5 model.\n",
    "    \"\"\"\n",
    "    # Define the prompt for translation\n",
    "    prompt = f\"translate English to Formal English: {text}\"\n",
    "    \n",
    "    # Tokenize the input text\n",
    "    inputs = tokenizer(prompt, return_tensors=\"pt\", padding=True, truncation=True)\n",
    "    \n",
    "    # Generate formal text\n",
    "    outputs = model.generate(inputs.input_ids, max_length=100, num_return_sequences=1)\n",
    "    \n",
    "    # Decode the generated text\n",
    "    formal_text = tokenizer.decode(outputs[0], skip_special_tokens=True)\n",
    "    \n",
    "    return formal_text\n",
    "\n",
    "# Example usage\n",
    "text = \"yeah, u wanna go out? btw idk if it's cool.\"\n",
    "formal_text = formalize_text(text)\n",
    "print(f\"Formalized Text: {formal_text}\")\n"
   ]
  }
 ],
 "metadata": {
  "kernelspec": {
   "display_name": ".venv",
   "language": "python",
   "name": "python3"
  },
  "language_info": {
   "codemirror_mode": {
    "name": "ipython",
    "version": 3
   },
   "file_extension": ".py",
   "mimetype": "text/x-python",
   "name": "python",
   "nbconvert_exporter": "python",
   "pygments_lexer": "ipython3",
   "version": "3.11.9"
  }
 },
 "nbformat": 4,
 "nbformat_minor": 2
}
